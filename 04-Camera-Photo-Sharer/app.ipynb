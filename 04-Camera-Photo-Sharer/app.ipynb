{
 "cells": [
  {
   "cell_type": "code",
   "execution_count": 5,
   "metadata": {},
   "outputs": [],
   "source": [
    "from kivy.app import App\n",
    "from kivy.uix.screenmanager import ScreenManager, Screen\n",
    "from kivy.lang import Builder\n",
    "\n",
    "\n",
    "Builder.load_file('frontend.kv')\n",
    "\n",
    "class FirstScreen(Screen):\n",
    "    def search_image(self):\n",
    "        pass\n",
    "\n",
    "class RootWidget(ScreenManager):\n",
    "    pass\n",
    "\n",
    "\n",
    "class MainApp(App):\n",
    "\n",
    "    def build(self):\n",
    "        return RootWidget()\n",
    "\n",
    "MainApp().run()"
   ]
  }
 ],
 "metadata": {
  "kernelspec": {
   "display_name": "Python 3.9.13 ('advanced_python')",
   "language": "python",
   "name": "python3"
  },
  "language_info": {
   "codemirror_mode": {
    "name": "ipython",
    "version": 3
   },
   "file_extension": ".py",
   "mimetype": "text/x-python",
   "name": "python",
   "nbconvert_exporter": "python",
   "pygments_lexer": "ipython3",
   "version": "3.9.13"
  },
  "orig_nbformat": 4,
  "vscode": {
   "interpreter": {
    "hash": "f4151b9ec01bb5bed6e3222ee60ab7ad98b0870a38fdd1f502bc3a0650a20dc0"
   }
  }
 },
 "nbformat": 4,
 "nbformat_minor": 2
}
