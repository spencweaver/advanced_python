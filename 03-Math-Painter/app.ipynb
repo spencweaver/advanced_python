{
 "cells": [
  {
   "cell_type": "code",
   "execution_count": 2,
   "metadata": {},
   "outputs": [],
   "source": [
    "import numpy as np\n",
    "from PIL import Image\n",
    "\n",
    "class Canvas:\n",
    "\n",
    "    def __init__(self, height, width, color):\n",
    "        self.color = color\n",
    "        self.height = height\n",
    "        self.width = width\n",
    "\n",
    "        # Create a 3d numpy array\n",
    "        self.data = np.zeros((self.height, self.width, 3), dtype=np.uint8)\n",
    "        # Change [0,0,0]\n",
    "        self.data[:] = self.color\n",
    "\n",
    "    def make(self, imagepath):\n",
    "        img = Image.fromarray(self.data, 'RGB')\n",
    "        img.save(imagepath)\n",
    "\n",
    "\n",
    "class Rectangle:\n",
    "    \n",
    "    def __init__(self, x, y, height, width, color):\n",
    "        self.x = x\n",
    "        self.y = y\n",
    "        self.height = height\n",
    "        self.width = width\n",
    "        self.color = color\n",
    "\n",
    "    def draw(self, canvas):\n",
    "        canvas.data[self.x: self.x+self.height, self.y:self.y+self.width] = self.color\n",
    "\n",
    "\n",
    "class Square:\n",
    "\n",
    "    def __init__(self, x, y, side, color):\n",
    "        self.color = color\n",
    "        self.x = x\n",
    "        self.y = y\n",
    "        self.side = side\n",
    "\n",
    "    def draw(self, canvas):\n",
    "        canvas.data[self.x: self.x+self.side, self.y: self.y + self.side] = self.color\n",
    "\n",
    "\n",
    "\n",
    "canvas = Canvas(height=20, width=30, color=(255,255,255))\n",
    "r1 = Rectangle(x=1, y=6, height=7, width=10, color=(100, 200, 125))\n",
    "r1.draw(canvas)\n",
    "s1 = Square(x=1, y=3, side=3, color=(1, 100, 222))\n",
    "s1.draw(canvas)\n",
    "canvas.make('canvas.png')"
   ]
  },
  {
   "cell_type": "code",
   "execution_count": 4,
   "metadata": {},
   "outputs": [
    {
     "data": {
      "text/plain": [
       "<__main__.Canvas at 0x10e1eb2b0>"
      ]
     },
     "execution_count": 4,
     "metadata": {},
     "output_type": "execute_result"
    }
   ],
   "source": [
    "# Get width and height\n",
    "canvas_width = int(input(\"Enter canvas width: \"))\n",
    "canvas_height = int(input(\"Enter canvas height: \"))\n",
    "\n",
    "# Make a dict of color codes\n",
    "colors = {\"white\": (255,255,255), \"black\": (0,0,0)}\n",
    "canvas_color = input(\"Enter canvas color (white or black): \")\n",
    "\n",
    "# Create Canvas\n",
    "canvas = Canvas(height=canvas_height, width=canvas_width, color=colors[canvas_color])\n",
    "\n",
    "while True:\n",
    "    shape_type = input(\"What do you like to draw? Enter quit to quit. \")\n",
    "    \n",
    "    if shape_type.lower() == \"rectangle\":\n",
    "        x = int(input(\"Enter x of the rectangle: \"))\n",
    "        y = int(input(\"Enter y of the rectangle: \"))\n",
    "        w = int(input(\"Enter the width of the rectangle: \"))\n",
    "        h = int(input(\"Enter the height of the rectangle: \"))\n",
    "        r = int(input(\"How much red should the rectangle have? \"))\n",
    "        g = int(input(\"How much green should the rectangle have? \"))\n",
    "        b = int(input(\"How much blue should the rectangle have? \"))\n",
    "\n",
    "        # Create the rectangle\n",
    "        r1 = Rectangle(x=x, y=y, height=h, width=w, color=(r, g, b))\n",
    "        r1.draw(canvas)\n",
    "\n",
    "    if shape_type.lower() == \"square\":\n",
    "        x = int(input(\"Enter x of the rectangle: \"))\n",
    "        y = int(input(\"Enter y of the rectangle: \"))\n",
    "        s = int(input(\"Enter the side of the rectangle: \"))\n",
    "        r = int(input(\"How much red should the rectangle have? \"))\n",
    "        g = int(input(\"How much green should the rectangle have? \"))\n",
    "        b = int(input(\"How much blue should the rectangle have? \"))\n",
    "\n",
    "        # Create the square\n",
    "        r1 = Square(x=x, y=y, side=s, color=(r, g, b))\n",
    "        r1.draw(canvas)\n",
    "\n",
    "    if shape_type == 'quit':\n",
    "        break\n",
    "\n",
    "canvas.make('canvas.png')\n",
    "canvas\n"
   ]
  },
  {
   "cell_type": "code",
   "execution_count": null,
   "metadata": {},
   "outputs": [],
   "source": []
  }
 ],
 "metadata": {
  "kernelspec": {
   "display_name": "Python 3.9.13 ('advanced_python')",
   "language": "python",
   "name": "python3"
  },
  "language_info": {
   "codemirror_mode": {
    "name": "ipython",
    "version": 3
   },
   "file_extension": ".py",
   "mimetype": "text/x-python",
   "name": "python",
   "nbconvert_exporter": "python",
   "pygments_lexer": "ipython3",
   "version": "3.9.13"
  },
  "orig_nbformat": 4,
  "vscode": {
   "interpreter": {
    "hash": "f4151b9ec01bb5bed6e3222ee60ab7ad98b0870a38fdd1f502bc3a0650a20dc0"
   }
  }
 },
 "nbformat": 4,
 "nbformat_minor": 2
}
