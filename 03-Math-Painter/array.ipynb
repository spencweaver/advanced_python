{
 "cells": [
  {
   "cell_type": "code",
   "execution_count": 3,
   "metadata": {},
   "outputs": [],
   "source": [
    "import numpy as np\n",
    "from PIL import Image"
   ]
  },
  {
   "cell_type": "code",
   "execution_count": 24,
   "metadata": {},
   "outputs": [
    {
     "data": {
      "text/plain": [
       "array([[[  0,   0, 255],\n",
       "        [  0,   0, 255],\n",
       "        [  0,   0, 255],\n",
       "        ...,\n",
       "        [  0,   0, 255],\n",
       "        [  0,   0, 255],\n",
       "        [  0,   0, 255]],\n",
       "\n",
       "       [[255, 255,   0],\n",
       "        [255,   0,   0],\n",
       "        [255,   0,   0],\n",
       "        ...,\n",
       "        [255, 255,   0],\n",
       "        [255, 255,   0],\n",
       "        [255, 255,   0]],\n",
       "\n",
       "       [[255, 255,   0],\n",
       "        [255,   0,   0],\n",
       "        [255,   0,   0],\n",
       "        ...,\n",
       "        [255, 255,   0],\n",
       "        [255, 255,   0],\n",
       "        [255, 255,   0]],\n",
       "\n",
       "       ...,\n",
       "\n",
       "       [[  0,   0, 255],\n",
       "        [255,   0,   0],\n",
       "        [255,   0,   0],\n",
       "        ...,\n",
       "        [  0,   0, 255],\n",
       "        [  0,   0, 255],\n",
       "        [  0,   0, 255]],\n",
       "\n",
       "       [[  0,   0, 255],\n",
       "        [255,   0,   0],\n",
       "        [255,   0,   0],\n",
       "        ...,\n",
       "        [  0,   0, 255],\n",
       "        [  0,   0, 255],\n",
       "        [  0,   0, 255]],\n",
       "\n",
       "       [[  0,   0, 255],\n",
       "        [255,   0,   0],\n",
       "        [255,   0,   0],\n",
       "        ...,\n",
       "        [  0,   0, 255],\n",
       "        [  0,   0, 255],\n",
       "        [  0,   0, 255]]], dtype=uint8)"
      ]
     },
     "execution_count": 24,
     "metadata": {},
     "output_type": "execute_result"
    }
   ],
   "source": [
    "data = np.zeros((50, 40, 3), dtype=np.uint8)\n",
    "data[:] = [0, 0, 255]\n",
    "data[1:3] = [255, 255, 0]\n",
    "data[1:, 1:3] = [255, 0, 0]\n",
    "data"
   ]
  },
  {
   "cell_type": "code",
   "execution_count": 25,
   "metadata": {},
   "outputs": [
    {
     "data": {
      "image/png": "[encoded data removed]",
      "text/plain": [
       "<PIL.Image.Image image mode=RGB size=40x50>"
      ]
     },
     "execution_count": 25,
     "metadata": {},
     "output_type": "execute_result"
    }
   ],
   "source": [
    "img = Image.fromarray(data, 'RGB')\n",
    "img"
   ]
  },
  {
   "cell_type": "code",
   "execution_count": null,
   "metadata": {},
   "outputs": [],
   "source": []
  }
 ],
 "metadata": {
  "kernelspec": {
   "display_name": "Python 3.9.13 ('advanced_python')",
   "language": "python",
   "name": "python3"
  },
  "language_info": {
   "codemirror_mode": {
    "name": "ipython",
    "version": 3
   },
   "file_extension": ".py",
   "mimetype": "text/x-python",
   "name": "python",
   "nbconvert_exporter": "python",
   "pygments_lexer": "ipython3",
   "version": "3.9.13"
  },
  "orig_nbformat": 4,
  "vscode": {
   "interpreter": {
    "hash": "f4151b9ec01bb5bed6e3222ee60ab7ad98b0870a38fdd1f502bc3a0650a20dc0"
   }
  }
 },
 "nbformat": 4,
 "nbformat_minor": 2
}
